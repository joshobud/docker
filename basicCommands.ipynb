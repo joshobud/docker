{
    "metadata": {
        "kernelspec": {
            "name": "powershell",
            "display_name": "PowerShell"
        },
        "language_info": {
            "name": "powershell",
            "codemirror_mode": "shell",
            "mimetype": "text/x-sh",
            "file_extension": ".ps1"
        }
    },
    "nbformat_minor": 2,
    "nbformat": 4,
    "cells": [
        {
            "cell_type": "markdown",
            "source": [
                "## `List running containers`"
            ],
            "metadata": {
                "azdata_cell_guid": "d206bcd5-3609-4213-8c26-c00089a7a81e"
            }
        },
        {
            "cell_type": "code",
            "source": [
                "docker ps"
            ],
            "metadata": {
                "azdata_cell_guid": "2342dba7-73fb-4691-9a70-176ceb84c19d"
            },
            "outputs": [
                {
                    "name": "stdout",
                    "text": "CONTAINER ID   IMAGE                    COMMAND                  CREATED       STATUS       PORTS      NAMES\nb51390bfb18e   prom/prometheus:latest   \"/bin/prometheus --c…\"   3 hours ago   Up 3 hours   9090/tcp   my-prometheus.1.lxrvlksyraeeocs8vqcrkwjt3\n",
                    "output_type": "stream"
                }
            ],
            "execution_count": 19
        },
        {
            "cell_type": "markdown",
            "source": [
                "## `List all containers (running & not running)`"
            ],
            "metadata": {
                "azdata_cell_guid": "a8ca80df-efbb-423b-973d-1b4a398c932d"
            }
        },
        {
            "cell_type": "code",
            "source": [
                "docker ps -a"
            ],
            "metadata": {
                "azdata_cell_guid": "9802fa93-776b-42f8-a005-73b6f2f27031"
            },
            "outputs": [
                {
                    "name": "stdout",
                    "text": "CONTAINER ID   IMAGE                                        COMMAND                  CREATED              STATUS                           PORTS      NAMES\n586ae790345a   mcr.microsoft.com/mssql/server:2019-latest   \"/opt/mssql/bin/perm…\"   25 seconds ago       Exited (2) 24 seconds ago                   epic_mcnulty\n8ba2d38649a4   mcr.microsoft.com/mssql/server:2019-latest   \"/opt/mssql/bin/perm…\"   About a minute ago   Exited (1) About a minute ago               amazing_varahamihira\na22751ce819e   ubuntu:latest                                \"/bin/bash\"              8 minutes ago        Exited (0) 6 minutes ago                    musing_tharp\n4227d9f99d65   redis                                        \"docker-entrypoint.s…\"   11 minutes ago       Exited (0) 9 minutes ago                    frosty_ramanujan\nb51390bfb18e   prom/prometheus:latest                       \"/bin/prometheus --c…\"   About an hour ago    Up About an hour                 9090/tcp   my-prometheus.1.lxrvlksyraeeocs8vqcrkwjt3\n1689e15436af   prom/prometheus:latest                       \"/bin/prometheus --c…\"   3 days ago           Exited (255) About an hour ago   9090/tcp   my-prometheus.1.tu1zmoaukf9e6043x3inkkhkl\nfd90abc94b1e   prom/prometheus:latest                       \"/bin/prometheus --c…\"   4 days ago           Exited (255) 4 days ago          9090/tcp   my-prometheus.1.whkvv88f6v0vr4jxs2yfy1768\nb42c56d5d14c   prom/prometheus:latest                       \"/bin/prometheus --c…\"   4 days ago           Exited (255) 4 days ago          9090/tcp   my-prometheus.1.svqelcpk5x0j4762fz66bfjng\nfef4456e73f6   prom/prometheus:latest                       \"/bin/prometheus --c…\"   5 days ago           Exited (255) 4 days ago          9090/tcp   my-prometheus.1.ntt144qvz2tdee4wzf51d1tkr\ncc8841201160   redis                                        \"docker-entrypoint.s…\"   2 weeks ago          Exited (255) 2 weeks ago         6379/tcp   affectionate_pasteur\n",
                    "output_type": "stream"
                }
            ],
            "execution_count": 14
        },
        {
            "cell_type": "markdown",
            "source": [
                "## View list of images on local machine"
            ],
            "metadata": {
                "azdata_cell_guid": "3705367d-33c2-48a0-8689-10bbacc7c91e"
            }
        },
        {
            "cell_type": "code",
            "source": [
                "docker images"
            ],
            "metadata": {
                "azdata_cell_guid": "3b232219-458d-4366-8178-0d4149fc15bc"
            },
            "outputs": [
                {
                    "name": "stdout",
                    "text": "REPOSITORY                           TAG                                              IMAGE ID       CREATED         SIZE\njoshobud/2019ag                      1.0                                              8c7a417c3e75   2 weeks ago     1.5GB\ndocker/desktop-kubernetes            kubernetes-v1.19.2-cni-v0.8.5-critools-v1.17.0   969b684d3b29   4 weeks ago     285MB\nredis                                latest                                           84c5f6e03bf0   6 weeks ago     104MB\ndocker/desktop-kubernetes            kubernetes-v1.18.8-cni-v0.8.5-critools-v1.17.0   e777077bd5d8   2 months ago    292MB\ndocker/desktop-kubernetes            kubernetes-v1.18.6-cni-v0.8.5-critools-v1.17.0   1d5ac29522b4   3 months ago    292MB\ndocker/desktop-kubernetes            kubernetes-v1.18.3-cni-v0.8.5-critools-v1.17.0   12d46cb73bda   5 months ago    292MB\ndocker/desktop-kubernetes            kubernetes-v1.16.5-cni-v0.8.5-critools-v1.17.0   46b0bb32af54   5 months ago    289MB\n<none>                               <none>                                           0c2790df1a1c   6 months ago    178MB\n<none>                               <none>                                           2858034d1186   6 months ago    165MB\n<none>                               <none>                                           c35819fd55ba   6 months ago    219MB\nnode                                 current-slim                                     6d9a17519d40   6 months ago    140MB\nmcr.microsoft.com/mssql/server       2019-latest                                      d60e9ac97708   7 months ago    1.5GB\nmcr.microsoft.com/mssql/server       latest                                           d60e9ac97708   7 months ago    1.5GB\nprom/prometheus                      <none>                                           358a0d2395fe   7 months ago    135MB\ndocker/desktop-storage-provisioner   v1.1                                             e704287ce753   7 months ago    41.8MB\npython                               alpine                                           d5e5ad4a4fc0   7 months ago    107MB\nnode                                 12-alpine                                        f77abbe89ac1   7 months ago    88.1MB\nalpine                               <none>                                           a187dde48cd2   7 months ago    5.6MB\nubuntu                               latest                                           4e5021d210f6   7 months ago    64.2MB\nnginx                                alpine                                           377c0837328f   7 months ago    19.7MB\ndocker/desktop-vpnkit-controller     v1.0                                             79da37e5a3aa   7 months ago    36.6MB\ndocker/desktop-kubernetes            kubernetes-v1.16.5-cni-v0.7.5-critools-v1.15.0   a86647f0b376   9 months ago    279MB\nk8s.gcr.io/kube-controller-manager   v1.16.5                                          441835dd2301   9 months ago    151MB\nk8s.gcr.io/kube-apiserver            v1.16.5                                          fc838b21afbb   9 months ago    159MB\nk8s.gcr.io/kube-scheduler            v1.16.5                                          b4d073a9efda   9 months ago    83.5MB\nk8s.gcr.io/kube-proxy                v1.16.5                                          0ee1b8a3ebe0   9 months ago    82.7MB\ndocker/kube-compose-controller       v0.4.25-alpha1                                   129151cdf35f   12 months ago   35.6MB\ndocker/kube-compose-api-server       v0.4.25-alpha1                                   989749268895   12 months ago   50.7MB\ndocker/kube-compose-installer        v0.4.25-alpha1                                   2a71ac5a1359   12 months ago   42.3MB\nk8s.gcr.io/etcd                      3.3.15-0                                         b2756210eeab   13 months ago   247MB\nk8s.gcr.io/coredns                   1.6.2                                            bf261d157914   14 months ago   44.1MB\nalpine                               3.5                                              f80194ae2e0c   21 months ago   4MB\nk8s.gcr.io/pause                     3.1                                              da86e6ba6ca1   2 years ago     742kB\n",
                    "output_type": "stream"
                }
            ],
            "execution_count": 1
        },
        {
            "cell_type": "markdown",
            "source": [
                "## Remove image\n",
                "\n",
                "Image ID needed"
            ],
            "metadata": {
                "azdata_cell_guid": "1b1d584f-1f79-4c4c-8972-e539335f3c72"
            }
        },
        {
            "cell_type": "code",
            "source": [
                "docker rmi f80194ae2e0c"
            ],
            "metadata": {
                "azdata_cell_guid": "1bae3449-8a78-49f6-b7cd-a1fa257986ca"
            },
            "outputs": [
                {
                    "name": "stdout",
                    "text": "Untagged: alpine:3.5\nUntagged: alpine@sha256:66952b313e51c3bd1987d7c4ddf5dba9bc0fb6e524eed2448fa660246b3e76ec\nDeleted: sha256:f80194ae2e0ccf0f098baa6b981396dfbffb16e6476164af72158577a7de2dd9\nDeleted: sha256:f566c57e6f2da2364c14195c832b922fd8f4813fd139b8fe45e3454c16e33975\n",
                    "output_type": "stream"
                }
            ],
            "execution_count": 3
        },
        {
            "cell_type": "markdown",
            "source": [
                "## Build image from dockerfile in local directory"
            ],
            "metadata": {
                "azdata_cell_guid": "516c0d12-0917-4587-b6ea-153bb1769125"
            }
        },
        {
            "cell_type": "code",
            "source": [
                "cd 'C:\\Users\\jobudzinski\\source\\Workspaces\\DBA Source Code\\PowerShell\\Josh\\docker\\sql'\r\n",
                "docker build . -t sqlimage"
            ],
            "metadata": {
                "azdata_cell_guid": "b9ddb648-ae20-4aa0-b5fc-b0a09a72a712"
            },
            "outputs": [
                {
                    "name": "stdout",
                    "text": "Sending build context to Docker daemon  10.24kB\nStep 1/8 : FROM mcr.microsoft.com/mssql/server:2019-latest\n ---> d60e9ac97708\nStep 2/8 : COPY . /\n ---> Using cache\n ---> e6929a9139ed\nStep 3/8 : USER root\n ---> Using cache\n ---> dcaa7e8e8ba6\nStep 4/8 : RUN chmod +x db-init.sh\n ---> Using cache\n ---> ed17b186157a\nStep 5/8 : RUN /opt/mssql/bin/mssql-conf set sqlagent.enabled true\n ---> Using cache\n ---> c488c23a781d\nStep 6/8 : RUN /opt/mssql/bin/mssql-conf set hadr.hadrenabled  1\n ---> Using cache\n ---> 769421914ff6\nStep 7/8 : RUN /opt/mssql/bin/mssql-conf set memory.memorylimitmb 2048\n ---> Using cache\n ---> d9afbc67d634\nStep 8/8 : RUN /opt/mssql/bin/mssql-conf set telemetry.customerfeedback false\n ---> Using cache\n ---> 8c7a417c3e75\nSuccessfully built 8c7a417c3e75\nSuccessfully tagged sqlimage:latest\nSECURITY WARNING: You are building a Docker image from Windows against a non-Windows Docker host. All files and directories added to build context will have '-rwxr-xr-x' permissions. It is recommended to double check and reset permissions for sensitive files and directories.\n",
                    "output_type": "stream"
                }
            ],
            "execution_count": 5
        },
        {
            "cell_type": "markdown",
            "source": [
                "##  Build image with local dockerfile and tag"
            ],
            "metadata": {
                "azdata_cell_guid": "0b5b1ea7-755b-41f6-9217-f53fd75518be"
            }
        },
        {
            "cell_type": "code",
            "source": [
                "cd 'C:\\Users\\jobudzinski\\source\\Workspaces\\DBA Source Code\\PowerShell\\Josh\\docker\\sql'\r\n",
                "docker build -t joshobud/sql2019:1.1 ."
            ],
            "metadata": {
                "azdata_cell_guid": "880903fe-d685-43f4-82be-bf1ba28b3f25"
            },
            "outputs": [
                {
                    "name": "stdout",
                    "text": "Sending build context to Docker daemon  10.24kB\nStep 1/8 : FROM mcr.microsoft.com/mssql/server:2019-latest\n ---> d60e9ac97708\nStep 2/8 : COPY . /\n ---> Using cache\n ---> e6929a9139ed\nStep 3/8 : USER root\n ---> Using cache\n ---> dcaa7e8e8ba6\nStep 4/8 : RUN chmod +x db-init.sh\n ---> Using cache\n ---> ed17b186157a\nStep 5/8 : RUN /opt/mssql/bin/mssql-conf set sqlagent.enabled true\n ---> Using cache\n ---> c488c23a781d\nStep 6/8 : RUN /opt/mssql/bin/mssql-conf set hadr.hadrenabled  1\n ---> Using cache\n ---> 769421914ff6\nStep 7/8 : RUN /opt/mssql/bin/mssql-conf set memory.memorylimitmb 2048\n ---> Using cache\n ---> d9afbc67d634\nStep 8/8 : RUN /opt/mssql/bin/mssql-conf set telemetry.customerfeedback false\n ---> Using cache\n ---> 8c7a417c3e75\nSuccessfully built 8c7a417c3e75\nSuccessfully tagged joshobud/sql2019:1.1\nSECURITY WARNING: You are building a Docker image from Windows against a non-Windows Docker host. All files and directories added to build context will have '-rwxr-xr-x' permissions. It is recommended to double check and reset permissions for sensitive files and directories.\n",
                    "output_type": "stream"
                }
            ],
            "execution_count": 16
        },
        {
            "cell_type": "markdown",
            "source": [
                "## Run container \"detached\""
            ],
            "metadata": {
                "azdata_cell_guid": "bfe7f571-8794-4d7f-ad46-bd7b02b48245"
            }
        },
        {
            "cell_type": "code",
            "source": [
                "docker run -d redis"
            ],
            "metadata": {
                "azdata_cell_guid": "efb634dd-4324-4b67-8f24-dda35cd25c80"
            },
            "outputs": [
                {
                    "name": "stdout",
                    "text": "4227d9f99d659230c6634f11de2a005435531c7bda6aec9937c0f118d0840774\n",
                    "output_type": "stream"
                }
            ],
            "execution_count": 7
        },
        {
            "cell_type": "markdown",
            "source": [
                "## Run container w/ interactive terminal"
            ],
            "metadata": {
                "azdata_cell_guid": "b0ad0850-41ec-44b2-9386-ad20ca9bb80a"
            }
        },
        {
            "cell_type": "code",
            "source": [
                "docker run -it ubuntu:latest"
            ],
            "metadata": {
                "azdata_cell_guid": "c5e524f7-96c4-4c13-aa7f-6a3ec75024e8"
            },
            "outputs": [
                {
                    "name": "stdout",
                    "text": "the input device is not a TTY.  If you are using mintty, try prefixing the command with 'winpty'\n",
                    "output_type": "stream"
                }
            ],
            "execution_count": 10
        },
        {
            "cell_type": "markdown",
            "source": [
                "## Run container and map ports\n",
                "\n",
                "<mark>Host Port : Container Port</mark>"
            ],
            "metadata": {
                "azdata_cell_guid": "53bb0a9f-f187-412f-8a15-5e1eae50d1cc"
            }
        },
        {
            "cell_type": "code",
            "source": [
                "docker run -p 1100:1433 mcr.microsoft.com/mssql/server:2019-latest -e \"ACCEPT_EULA=Y\""
            ],
            "metadata": {
                "azdata_cell_guid": "f8a72ca0-33c9-4845-b31e-972a7f3700e9"
            },
            "outputs": [
                {
                    "name": "stdout",
                    "text": "/opt/mssql/bin/permissions_check.sh: line 59: exec: -e: invalid option\nexec: usage: exec [-cl] [-a name] [command [arguments ...]] [redirection ...]\nSQL Server 2019 will run as non-root by default.\nThis container is running as user mssql.\nTo learn more visit https://go.microsoft.com/fwlink/?linkid=2099216.\n",
                    "output_type": "stream"
                }
            ],
            "execution_count": 12
        },
        {
            "cell_type": "markdown",
            "source": [
                "## Login to docker hub"
            ],
            "metadata": {
                "azdata_cell_guid": "94a62f7a-052e-4d02-8c1c-d469da94e6c3"
            }
        },
        {
            "cell_type": "code",
            "source": [
                "docker login -u joshobud"
            ],
            "metadata": {
                "azdata_cell_guid": "024e6799-e3f8-422d-bdf0-0225f46e9674"
            },
            "outputs": [
                {
                    "name": "stdout",
                    "text": "Error: Cannot perform an interactive login from a non TTY device\n",
                    "output_type": "stream"
                }
            ],
            "execution_count": 15
        },
        {
            "cell_type": "markdown",
            "source": [
                "## Push image to docker hub"
            ],
            "metadata": {
                "azdata_cell_guid": "f119fe42-fc9b-4004-972b-fe138fe4f307"
            }
        },
        {
            "cell_type": "code",
            "source": [
                "docker push joshobud/sql2019:1.1"
            ],
            "metadata": {
                "azdata_cell_guid": "0fe29b46-ed2d-460c-b226-2d4ea8c8d3b1"
            },
            "outputs": [
                {
                    "name": "stdout",
                    "text": "The push refers to repository [docker.io/joshobud/sql2019]\ne5ee6a625166: Preparing\nd6cae775e795: Preparing\n36e25aea4891: Preparing\n0f8589a5a611: Preparing\n5f437b8507e1: Preparing\n2dd84447902c: Preparing\nff8bea33f654: Preparing\nb2ac6ae4facb: Preparing\n800a9a3ba364: Preparing\n1d879a61f0e0: Preparing\n75e70aa52609: Preparing\ndda151859818: Preparing\nfbd2732ad777: Preparing\nba9de9d8475e: Preparing\n2dd84447902c: Waiting\nff8bea33f654: Waiting\nb2ac6ae4facb: Waiting\n800a9a3ba364: Waiting\n1d879a61f0e0: Waiting\n75e70aa52609: Waiting\nba9de9d8475e: Waiting\nfbd2732ad777: Waiting\n5f437b8507e1: Mounted from joshobud/2019ag\ne5ee6a625166: Mounted from joshobud/2019ag\n0f8589a5a611: Mounted from joshobud/2019ag\n36e25aea4891: Mounted from joshobud/2019ag\nd6cae775e795: Mounted from joshobud/2019ag\n800a9a3ba364: Mounted from joshobud/2019ag\n1d879a61f0e0: Mounted from joshobud/2019ag\n2dd84447902c: Mounted from joshobud/2019ag\nff8bea33f654: Mounted from joshobud/2019ag\nb2ac6ae4facb: Mounted from joshobud/2019ag\n75e70aa52609: Mounted from joshobud/2019ag\ndda151859818: Mounted from joshobud/2019ag\nfbd2732ad777: Mounted from joshobud/2019ag\nba9de9d8475e: Mounted from joshobud/2019ag\n1.1: digest: sha256:c6e68ac2aa31d1e07da0c6dca66da29adc7856fe15a45d36156ba3f2fb17f7e7 size: 3239\n",
                    "output_type": "stream"
                }
            ],
            "execution_count": 17
        },
        {
            "cell_type": "markdown",
            "source": [
                "## Launch interactive shell into container"
            ],
            "metadata": {
                "azdata_cell_guid": "c2d3542d-34f7-4590-b471-4d8a0304a8a3"
            }
        },
        {
            "cell_type": "code",
            "source": [
                "docker exec -it a22751ce819e sh"
            ],
            "metadata": {
                "azdata_cell_guid": "d2d10832-7acc-46bd-88c1-7483f07f5111"
            },
            "outputs": [
                {
                    "name": "stdout",
                    "text": "the input device is not a TTY.  If you are using mintty, try prefixing the command with 'winpty'\n",
                    "output_type": "stream"
                }
            ],
            "execution_count": 18
        },
        {
            "cell_type": "markdown",
            "source": [
                "## Show details about a container"
            ],
            "metadata": {
                "azdata_cell_guid": "5f22f836-cac1-4178-91ef-2299c1a2a33c"
            }
        },
        {
            "cell_type": "code",
            "source": [
                "docker inspect b51390bfb18e"
            ],
            "metadata": {
                "azdata_cell_guid": "11a27309-9892-4e55-a374-45cf7b821ed4"
            },
            "outputs": [
                {
                    "name": "stdout",
                    "text": "[\n    {\n        \"Id\": \"b51390bfb18ead94773afd4ae090182f53a9129395d6bfcfd5176380c0c81a55\",\n        \"Created\": \"2020-10-26T11:45:55.0722875Z\",\n        \"Path\": \"/bin/prometheus\",\n        \"Args\": [\n            \"--config.file=/etc/prometheus/prometheus.yml\",\n            \"--storage.tsdb.path=/prometheus\",\n            \"--web.console.libraries=/usr/share/prometheus/console_libraries\",\n            \"--web.console.templates=/usr/share/prometheus/consoles\"\n        ],\n        \"State\": {\n            \"Status\": \"running\",\n            \"Running\": true,\n            \"Paused\": false,\n            \"Restarting\": false,\n            \"OOMKilled\": false,\n            \"Dead\": false,\n            \"Pid\": 3876,\n            \"ExitCode\": 0,\n            \"Error\": \"\",\n            \"StartedAt\": \"2020-10-26T11:46:01.8464352Z\",\n            \"FinishedAt\": \"0001-01-01T00:00:00Z\"\n        },\n        \"Image\": \"sha256:358a0d2395fe711bb8258e8fb4b2d7865c0a9a6463969bcd1452ee8869ea6653\",\n        \"ResolvConfPath\": \"/var/lib/docker/containers/b51390bfb18ead94773afd4ae090182f53a9129395d6bfcfd5176380c0c81a55/resolv.conf\",\n        \"HostnamePath\": \"/var/lib/docker/containers/b51390bfb18ead94773afd4ae090182f53a9129395d6bfcfd5176380c0c81a55/hostname\",\n        \"HostsPath\": \"/var/lib/docker/containers/b51390bfb18ead94773afd4ae090182f53a9129395d6bfcfd5176380c0c81a55/hosts\",\n        \"LogPath\": \"/var/lib/docker/containers/b51390bfb18ead94773afd4ae090182f53a9129395d6bfcfd5176380c0c81a55/b51390bfb18ead94773afd4ae090182f53a9129395d6bfcfd5176380c0c81a55-json.log\",\n        \"Name\": \"/my-prometheus.1.lxrvlksyraeeocs8vqcrkwjt3\",\n        \"RestartCount\": 0,\n        \"Driver\": \"overlay2\",\n        \"Platform\": \"linux\",\n        \"MountLabel\": \"\",\n        \"ProcessLabel\": \"\",\n        \"AppArmorProfile\": \"\",\n        \"ExecIDs\": null,\n        \"HostConfig\": {\n            \"Binds\": null,\n            \"ContainerIDFile\": \"\",\n            \"LogConfig\": {\n                \"Type\": \"json-file\",\n                \"Config\": {}\n            },\n            \"NetworkMode\": \"default\",\n            \"PortBindings\": {},\n            \"RestartPolicy\": {\n                \"Name\": \"\",\n                \"MaximumRetryCount\": 0\n            },\n            \"AutoRemove\": false,\n            \"VolumeDriver\": \"\",\n            \"VolumesFrom\": null,\n            \"CapAdd\": null,\n            \"CapDrop\": null,\n            \"Capabilities\": null,\n            \"Dns\": null,\n            \"DnsOptions\": null,\n            \"DnsSearch\": null,\n            \"ExtraHosts\": null,\n            \"GroupAdd\": null,\n            \"IpcMode\": \"private\",\n            \"Cgroup\": \"\",\n            \"Links\": null,\n            \"OomScoreAdj\": 0,\n            \"PidMode\": \"\",\n            \"Privileged\": false,\n            \"PublishAllPorts\": false,\n            \"ReadonlyRootfs\": false,\n            \"SecurityOpt\": null,\n            \"UTSMode\": \"\",\n            \"UsernsMode\": \"\",\n            \"ShmSize\": 67108864,\n            \"Runtime\": \"runc\",\n            \"ConsoleSize\": [\n                0,\n                0\n            ],\n            \"Isolation\": \"default\",\n            \"CpuShares\": 0,\n            \"Memory\": 0,\n            \"NanoCpus\": 0,\n            \"CgroupParent\": \"\",\n            \"BlkioWeight\": 0,\n            \"BlkioWeightDevice\": null,\n            \"BlkioDeviceReadBps\": null,\n            \"BlkioDeviceWriteBps\": null,\n            \"BlkioDeviceReadIOps\": null,\n            \"BlkioDeviceWriteIOps\": null,\n            \"CpuPeriod\": 0,\n            \"CpuQuota\": 0,\n            \"CpuRealtimePeriod\": 0,\n            \"CpuRealtimeRuntime\": 0,\n            \"CpusetCpus\": \"\",\n            \"CpusetMems\": \"\",\n            \"Devices\": null,\n            \"DeviceCgroupRules\": null,\n            \"DeviceRequests\": null,\n            \"KernelMemory\": 0,\n            \"KernelMemoryTCP\": 0,\n            \"MemoryReservation\": 0,\n            \"MemorySwap\": 0,\n            \"MemorySwappiness\": null,\n            \"OomKillDisable\": false,\n            \"PidsLimit\": null,\n            \"Ulimits\": [],\n            \"CpuCount\": 0,\n            \"CpuPercent\": 0,\n            \"IOMaximumIOps\": 0,\n            \"IOMaximumBandwidth\": 0,\n            \"Mounts\": [\n                {\n                    \"Type\": \"bind\",\n                    \"Source\": \"/host_mnt/c/tmp/prometheus.yaml\",\n                    \"Target\": \"/etc/prometheus/prometheus.yaml\"\n                }\n            ],\n            \"MaskedPaths\": [\n                \"/proc/asound\",\n                \"/proc/acpi\",\n                \"/proc/kcore\",\n                \"/proc/keys\",\n                \"/proc/latency_stats\",\n                \"/proc/timer_list\",\n                \"/proc/timer_stats\",\n                \"/proc/sched_debug\",\n                \"/proc/scsi\",\n                \"/sys/firmware\"\n            ],\n            \"ReadonlyPaths\": [\n                \"/proc/bus\",\n                \"/proc/fs\",\n                \"/proc/irq\",\n                \"/proc/sys\",\n                \"/proc/sysrq-trigger\"\n            ],\n            \"Init\": false\n        },\n        \"GraphDriver\": {\n            \"Data\": {\n                \"LowerDir\": \"/var/lib/docker/overlay2/fa750fe8e59111f96e2a18887f5ab26df9b2e3efb07b4942412cbea874fae77b-init/diff:/var/lib/docker/overlay2/d67383d80725d823545e247e977a2b5865fcc0b66b4993d372b13c4c928cc16a/diff:/var/lib/docker/overlay2/602ff7f5807c7857b7ec6bb3489967344b8fcd9ba034c45e33980b0c7a654d5f/diff:/var/lib/docker/overlay2/aedb835a28c740863cf68ff701e00665c916812f7e9b3722fb86c1ffbdb59b7c/diff:/var/lib/docker/overlay2/503418a52a27e65dcbbd85f866e89a31b4d7c4a51094a9652069aa7f072246af/diff:/var/lib/docker/overlay2/a4dfaee045354df862ab411409702b22b275cc24574383f736a410f354f11fda/diff:/var/lib/docker/overlay2/0927ca5585942e252b4608dd601b4b51c1c39ed7b9fb909f97e6a22f0910b547/diff:/var/lib/docker/overlay2/b71e1b4383937e47d7085d6904e40eb0108fbe2748c128454e2d1f7b1d032242/diff:/var/lib/docker/overlay2/1c5e181f07f66c14efb5bf8a3a995f40ff97bccd4f1f5e27a78bfe51f64b58e8/diff:/var/lib/docker/overlay2/f6cf84d4a0e1abfd5761b2ed19061ca3910ca9890f4045fc6cbd87f0a45abb95/diff:/var/lib/docker/overlay2/431fc9df2b8d535c7b3a2b6b802f632a64b780cf16e23bba094b12057c799b03/diff:/var/lib/docker/overlay2/2ee9de09f126dfe55d0e6e560c8cbbb4e8a39b5cd6bfb7a17a4885af335698c0/diff:/var/lib/docker/overlay2/38bddb689b50744f750a711cfc0a84acba5a94450d5c0e3a4c3fef7b1f95af88/diff\",\n                \"MergedDir\": \"/var/lib/docker/overlay2/fa750fe8e59111f96e2a18887f5ab26df9b2e3efb07b4942412cbea874fae77b/merged\",\n                \"UpperDir\": \"/var/lib/docker/overlay2/fa750fe8e59111f96e2a18887f5ab26df9b2e3efb07b4942412cbea874fae77b/diff\",\n                \"WorkDir\": \"/var/lib/docker/overlay2/fa750fe8e59111f96e2a18887f5ab26df9b2e3efb07b4942412cbea874fae77b/work\"\n            },\n            \"Name\": \"overlay2\"\n        },\n        \"Mounts\": [\n            {\n                \"Type\": \"bind\",\n                \"Source\": \"/host_mnt/c/tmp/prometheus.yaml\",\n                \"Destination\": \"/etc/prometheus/prometheus.yaml\",\n                \"Mode\": \"\",\n                \"RW\": true,\n                \"Propagation\": \"rprivate\"\n            },\n            {\n                \"Type\": \"volume\",\n                \"Name\": \"731c0423088da709582ef92cea5d134cd38506727b8ddcdf84a460cbe33e5da1\",\n                \"Source\": \"/var/lib/docker/volumes/731c0423088da709582ef92cea5d134cd38506727b8ddcdf84a460cbe33e5da1/_data\",\n                \"Destination\": \"/prometheus\",\n                \"Driver\": \"local\",\n                \"Mode\": \"\",\n                \"RW\": true,\n                \"Propagation\": \"\"\n            }\n        ],\n        \"Config\": {\n            \"Hostname\": \"b51390bfb18e\",\n            \"Domainname\": \"\",\n            \"User\": \"nobody\",\n            \"AttachStdin\": false,\n            \"AttachStdout\": false,\n            \"AttachStderr\": false,\n            \"ExposedPorts\": {\n                \"9090/tcp\": {}\n            },\n            \"Tty\": false,\n            \"OpenStdin\": false,\n            \"StdinOnce\": false,\n            \"Env\": [\n                \"PATH=/usr/local/sbin:/usr/local/bin:/usr/sbin:/usr/bin:/sbin:/bin\"\n            ],\n            \"Cmd\": [\n                \"--config.file=/etc/prometheus/prometheus.yml\",\n                \"--storage.tsdb.path=/prometheus\",\n                \"--web.console.libraries=/usr/share/prometheus/console_libraries\",\n                \"--web.console.templates=/usr/share/prometheus/consoles\"\n            ],\n            \"Image\": \"prom/prometheus:latest@sha256:0d05276441fc3ec287025db43190873fd0088d1b16a45a0012a59f4cbd6e5be9\",\n            \"Volumes\": {\n                \"/prometheus\": {}\n            },\n            \"WorkingDir\": \"/prometheus\",\n            \"Entrypoint\": [\n                \"/bin/prometheus\"\n            ],\n            \"OnBuild\": null,\n            \"Labels\": {\n                \"com.docker.swarm.node.id\": \"98xfcpi5dxfbmi3v8v5wf6q1u\",\n                \"com.docker.swarm.service.id\": \"cdc51xwi0c9mjsyiv6docdgm2\",\n                \"com.docker.swarm.service.name\": \"my-prometheus\",\n                \"com.docker.swarm.task\": \"\",\n                \"com.docker.swarm.task.id\": \"lxrvlksyraeeocs8vqcrkwjt3\",\n                \"com.docker.swarm.task.name\": \"my-prometheus.1.lxrvlksyraeeocs8vqcrkwjt3\",\n                \"maintainer\": \"The Prometheus Authors \\u003cprometheus-developers@googlegroups.com\\u003e\"\n            }\n        },\n        \"NetworkSettings\": {\n            \"Bridge\": \"\",\n            \"SandboxID\": \"90209846efc4eacf297c7c125245d40825a8c14e0099e513996b4cda2685d049\",\n            \"HairpinMode\": false,\n            \"LinkLocalIPv6Address\": \"\",\n            \"LinkLocalIPv6PrefixLen\": 0,\n            \"Ports\": {\n                \"9090/tcp\": null\n            },\n            \"SandboxKey\": \"/var/run/docker/netns/90209846efc4\",\n            \"SecondaryIPAddresses\": null,\n            \"SecondaryIPv6Addresses\": null,\n            \"EndpointID\": \"\",\n            \"Gateway\": \"\",\n            \"GlobalIPv6Address\": \"\",\n            \"GlobalIPv6PrefixLen\": 0,\n            \"IPAddress\": \"\",\n            \"IPPrefixLen\": 0,\n            \"IPv6Gateway\": \"\",\n            \"MacAddress\": \"\",\n            \"Networks\": {\n                \"ingress\": {\n                    \"IPAMConfig\": {\n                        \"IPv4Address\": \"10.0.0.4\"\n                    },\n                    \"Links\": null,\n                    \"Aliases\": [\n                        \"b51390bfb18e\"\n                    ],\n                    \"NetworkID\": \"o97s8sr177w6t7bi46zbpktzk\",\n                    \"EndpointID\": \"83d2c73dc753a71452b8e593d4ad2afaa8c5c2165ce9e5cc5575ec71d2a601bd\",\n                    \"Gateway\": \"\",\n                    \"IPAddress\": \"10.0.0.4\",\n                    \"IPPrefixLen\": 24,\n                    \"IPv6Gateway\": \"\",\n                    \"GlobalIPv6Address\": \"\",\n                    \"GlobalIPv6PrefixLen\": 0,\n                    \"MacAddress\": \"02:42:0a:00:00:04\",\n                    \"DriverOpts\": null\n                }\n            }\n        }\n    }\n]\n",
                    "output_type": "stream"
                }
            ],
            "execution_count": 20
        },
        {
            "cell_type": "markdown",
            "source": [
                "## Show logs for container\n",
                "\n",
                "<mark>Great for troubleshooting </mark>"
            ],
            "metadata": {
                "azdata_cell_guid": "c5f19272-7325-4204-8098-448351089c6d"
            }
        },
        {
            "cell_type": "code",
            "source": [
                "docker logs --tail 100 --follow --timestamps b51390bfb18e"
            ],
            "metadata": {
                "azdata_cell_guid": "32e2b6f3-dd8e-4d22-95a6-caaf130c3eaa"
            },
            "outputs": [],
            "execution_count": null
        },
        {
            "cell_type": "markdown",
            "source": [
                "## Create user network"
            ],
            "metadata": {
                "azdata_cell_guid": "b123f273-66d1-4297-8868-a9cce144b35f"
            }
        },
        {
            "cell_type": "code",
            "source": [
                "docker network create SQLAG"
            ],
            "metadata": {
                "azdata_cell_guid": "dbe4b8d1-4248-4834-a1db-9724a0730e10"
            },
            "outputs": [],
            "execution_count": null
        }
    ]
}